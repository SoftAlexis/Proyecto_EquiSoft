{
 "cells": [
  {
   "cell_type": "code",
   "execution_count": 1,
   "metadata": {
    "scrolled": true
   },
   "outputs": [
    {
     "name": "stdout",
     "output_type": "stream",
     "text": [
      "Hola\n"
     ]
    }
   ],
   "source": [
    "#func para convertir letras de columnas a numeros\n",
    "def letras_a_numeros(letters):\n",
    "    letters = letters.lower()\n",
    "    dictionary = {'a':1,'b':2,'c':3,'d':4,'e':5,'f':6,'g':7,'h':8,'i':9,'j':10,'k':11,'l':12,'m':13,'n':14,'o':15,'p':16,'q':17,'r':18,'s':19,'t':20,'u':21,'v':22,'w':23,'x':24,'y':25,'z':26}\n",
    "    strlen = len(letters)\n",
    "    if strlen == 1:\n",
    "        number = dictionary[letters]\n",
    "    if strlen == 2:\n",
    "        first_letter = letters[0]\n",
    "        first_number = dictionary[first_letter]\n",
    "        second_letter = letters[1]\n",
    "        second_number = dictionary[second_letter]\n",
    "        number = (first_number * 26) + second_number\n",
    "    if strlen == 3:\n",
    "        first_letter = letters[0]\n",
    "        first_number = dictionary[first_letter]\n",
    "        second_letter = letters[1]\n",
    "        second_number = dictionary[second_letter]\n",
    "        third_letter = letters[2]\n",
    "        third_number = dictionary[third_letter]\n",
    "        number = (first_number * 26 * 26) + (second_number * 26) + third_number\n",
    "    return number"
   ]
  },
  {
   "cell_type": "code",
   "execution_count": null,
   "metadata": {},
   "outputs": [],
   "source": []
  }
 ],
 "metadata": {
  "kernelspec": {
   "display_name": "Python 3",
   "language": "python",
   "name": "python3"
  },
  "language_info": {
   "codemirror_mode": {
    "name": "ipython",
    "version": 3
   },
   "file_extension": ".py",
   "mimetype": "text/x-python",
   "name": "python",
   "nbconvert_exporter": "python",
   "pygments_lexer": "ipython3",
   "version": "3.8.5"
  }
 },
 "nbformat": 4,
 "nbformat_minor": 4
}
