{
 "cells": [
  {
   "cell_type": "code",
   "execution_count": 13,
   "metadata": {},
   "outputs": [],
   "source": [
    "#librerias\n",
    "import pandas as pd\n",
    "import numpy as np\n",
    "import openpyxl \n",
    "import os\n",
    "import urllib\n",
    "import sqlalchemy as sa\n",
    "import pyodbc  "
   ]
  },
  {
   "cell_type": "code",
   "execution_count": 11,
   "metadata": {},
   "outputs": [],
   "source": [
    "NombreArchivo=\"C:/Users/Alexis Guevara S/Documents/EQUIVIDA/ARCHIVOS REGLAS Y ORIGINALES/SALUD/LISTADO POLIZA 3500000790 SALUD.xlsx\"\n",
    "pestaña=\"BASES\"\n",
    "#func para leer archivo, cambiar directorio y pestaña de ser el caso.\n",
    "def LeerArchivo(NombreArchivo):\n",
    "    df = pd.read_excel(NombreArchivo, sheet_name=pestaña, header=None)\n",
    "    return (df)"
   ]
  },
  {
   "cell_type": "code",
   "execution_count": 9,
   "metadata": {
    "collapsed": true
   },
   "outputs": [
    {
     "data": {
      "text/html": [
       "<div>\n",
       "<style scoped>\n",
       "    .dataframe tbody tr th:only-of-type {\n",
       "        vertical-align: middle;\n",
       "    }\n",
       "\n",
       "    .dataframe tbody tr th {\n",
       "        vertical-align: top;\n",
       "    }\n",
       "\n",
       "    .dataframe thead th {\n",
       "        text-align: right;\n",
       "    }\n",
       "</style>\n",
       "<table border=\"1\" class=\"dataframe\">\n",
       "  <thead>\n",
       "    <tr style=\"text-align: right;\">\n",
       "      <th></th>\n",
       "      <th>Nombres</th>\n",
       "      <th>Apellidos</th>\n",
       "    </tr>\n",
       "  </thead>\n",
       "  <tbody>\n",
       "    <tr>\n",
       "      <th>0</th>\n",
       "      <td>Carlos</td>\n",
       "      <td>Camacho</td>\n",
       "    </tr>\n",
       "    <tr>\n",
       "      <th>1</th>\n",
       "      <td>María</td>\n",
       "      <td>Carrion</td>\n",
       "    </tr>\n",
       "    <tr>\n",
       "      <th>2</th>\n",
       "      <td>Julia</td>\n",
       "      <td>Perez</td>\n",
       "    </tr>\n",
       "  </tbody>\n",
       "</table>\n",
       "</div>"
      ],
      "text/plain": [
       "  Nombres Apellidos\n",
       "0  Carlos   Camacho\n",
       "1   María   Carrion\n",
       "2   Julia     Perez"
      ]
     },
     "execution_count": 9,
     "metadata": {},
     "output_type": "execute_result"
    }
   ],
   "source": [
    "#funcion para cambiar de letras a numeros \n",
    "def letras_a_numeros(letters):\n",
    "    letters = letters.lower()\n",
    "    dictionary = {'a':1,'b':2,'c':3,'d':4,'e':5,'f':6,'g':7,'h':8,'i':9,'j':10,'k':11,'l':12,'m':13,'n':14,'o':15,'p':16,'q':17,'r':18,'s':19,'t':20,'u':21,'v':22,'w':23,'x':24,'y':25,'z':26}\n",
    "    strlen = len(letters)\n",
    "    if strlen == 1:\n",
    "        number = dictionary[letters]\n",
    "    if strlen == 2:\n",
    "        first_letter = letters[0]\n",
    "        first_number = dictionary[first_letter]\n",
    "        second_letter = letters[1]\n",
    "        second_number = dictionary[second_letter]\n",
    "        number = (first_number * 26) + second_number\n",
    "    if strlen == 3:\n",
    "        first_letter = letters[0]\n",
    "        first_number = dictionary[first_letter]\n",
    "        second_letter = letters[1]\n",
    "        second_number = dictionary[second_letter]\n",
    "        third_letter = letters[2]\n",
    "        third_number = dictionary[third_letter]\n",
    "        number = (first_number * 26 * 26) + (second_number * 26) + third_number\n",
    "    return number"
   ]
  },
  {
   "cell_type": "code",
   "execution_count": null,
   "metadata": {},
   "outputs": [],
   "source": [
    "#obtener reglas de bd, cambiar credenciales de base\n",
    "def obtenerReglas(linea):\n",
    "    #CONEXION A BASE DE DATOS SQL SERVER - REGLAS\n",
    "    cnxn = pyodbc.connect(\"Driver={SQL Server};Server=LAPTOP-139S97Q7\\PRUEBA; Database=equivida; UID=Alexis; PWD=Soft2021\")\n",
    "    df = pd.read_sql_query(\"SELECT * \"+\n",
    "                            \"FROM [equivida].[dbo].[reglasEquivida] \"+\n",
    "                            \"WHERE CLIENTE like '\"+linea+\"'\" , cnxn)\n",
    "    return (df)"
   ]
  },
  {
   "cell_type": "code",
   "execution_count": null,
   "metadata": {},
   "outputs": [],
   "source": [
    " #Crear Dataframe final\n",
    "def DataFrameFinal():\n",
    "    NombreColumnas=['TIPO_DE_REGISTRO','PRIMER_APELLIDO','SEGUNDO_APELLIDO','NOMBRES','FECHA_NAC','GENERO','TIPO_DOC','NUMERO_DOC','FEC_ALTA','SALARIO','CATEGORIA','COD_EMPRESA','NRO_PRESTAMO','COD_MEDIO_COMERCIAL','SN_GRATUIDAD','COD_ASESOR','PJE_EXTRAPRIMA','MOTIVO_EXTRAPRIMA','COD_ASEGURADO','TTIPO_DOC_TITULAR','NRO_DOC_TITULAR','COD_PARENTESCO','COD_BENEFICIO','PJE_BENEFICIO','COD_CONDUCTO','COD_TIPO_CTA_BCO','NRO_CTA_TARJ','NRO_SEGURIDAD','AAAAMM_VTO_TARJ','COD_TIPO_MOV','FEC_MOVIMIENTO','COD_MOTIVO_MOV','SN_DEVOLVER_OC','SN_APLICA_MOVIMIENTO','SN_REQUISITO_ASEG','SUMA_ASEG_INF','FEC_VIG_HASTA','COD_PPAGO','FEC_PAGO_PRI_CUOT','DIRECCION','TELEF_CELULAR','TELEF_CONVENCIONAL','EMAIL','COD_CANTON','COD_PROVINCIA','APELLIDO1_FACT','APELLIDO2_FACT','NOMBRE_FACT','TIPO_DOC_FACT','NRO_DOC_FACT','DIRECCION_FACT','COD_CANTON_FACT','COD_PROVINCIA_FACT','EMAIL_FACT','TELEF_CELULAR_FACT','TELEF_CONVENCIONAL_FACT']\n",
    "    #Crear DataFrameFinal\n",
    "    daf=pd.DataFrame(columns=[i for i in NombreColumnas])\n",
    "    return (daf)   "
   ]
  },
  {
   "cell_type": "code",
   "execution_count": null,
   "metadata": {},
   "outputs": [],
   "source": [
    "#TratamientoFechas\n",
    "def TratamientoFechas(df):\n",
    "    df= df['Fecha-Nac       '].map(lambda t: t[:-8])\n",
    "    return(df)"
   ]
  }
 ],
 "metadata": {
  "kernelspec": {
   "display_name": "Python 3",
   "language": "python",
   "name": "python3"
  },
  "language_info": {
   "codemirror_mode": {
    "name": "ipython",
    "version": 3
   },
   "file_extension": ".py",
   "mimetype": "text/x-python",
   "name": "python",
   "nbconvert_exporter": "python",
   "pygments_lexer": "ipython3",
   "version": "3.8.5"
  }
 },
 "nbformat": 4,
 "nbformat_minor": 4
}
